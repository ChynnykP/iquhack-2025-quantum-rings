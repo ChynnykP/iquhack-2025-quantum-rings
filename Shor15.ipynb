{
 "cells": [
  {
   "cell_type": "markdown",
   "id": "85955e61-324f-4412-9bac-e6dd69699824",
   "metadata": {},
   "source": "I used the example code provided in this assignment"
  },
  {
   "cell_type": "markdown",
   "id": "ef5152de-a79d-4a8e-9870-77a2d13e265e",
   "metadata": {},
   "source": [
    "Step 1. Import the required modules and obtain the backend"
   ]
  },
  {
   "cell_type": "code",
   "id": "1098cc1a-6195-4fb4-87bb-9001779b002c",
   "metadata": {},
   "source": [
    "import QuantumRingsLib\n",
    "from QuantumRingsLib import QuantumRegister, AncillaRegister, ClassicalRegister, QuantumCircuit\n",
    "from QuantumRingsLib import QuantumRingsProvider\n",
    "from QuantumRingsLib import job_monitor\n",
    "from QuantumRingsLib import JobStatus\n",
    "from matplotlib import pyplot as plt\n",
    "import numpy as np\n",
    "import math\n",
    "\n",
    "provider = QuantumRingsProvider(\n",
    "    token='',\n",
    "    name=''\n",
    ")\n",
    "backend = provider.get_backend(\"scarlet_quantum_rings\")\n",
    "shots = 1024\n",
    "\n",
    "provider.active_account()"
   ],
   "outputs": [],
   "execution_count": null
  },
  {
   "cell_type": "markdown",
   "id": "f92608ce-86bd-4760-bc1c-ca7e722ae280",
   "metadata": {},
   "source": [
    "Step 2. Define the core methods"
   ]
  },
  {
   "cell_type": "code",
   "id": "f32086a1-a980-4d19-8f14-0adcaae9c9c9",
   "metadata": {
    "ExecuteTime": {
     "end_time": "2025-02-02T14:17:57.314510Z",
     "start_time": "2025-02-02T14:17:57.309971Z"
    }
   },
   "source": [
    "def iqft_cct(qc, b, n):\n",
    "    \"\"\"\n",
    "    The inverse QFT circuit\n",
    "\n",
    "    Args:\n",
    "\n",
    "        qc (QuantumCircuit):\n",
    "                The quantum circuit\n",
    "\n",
    "        b (QuantumRegister):\n",
    "                The target register\n",
    "\n",
    "        n (int):\n",
    "                The number of qubits in the registers to use\n",
    "\n",
    "    Returns:\n",
    "        None\n",
    "\n",
    "    \"\"\"\n",
    "\n",
    "    for i in range (n):\n",
    "        for j in range (1, i+1):\n",
    "            # for inverse transform, we have to use negative angles\n",
    "            qc.cu1(  -math.pi / 2** ( i -j + 1 ), b[j - 1], b[i])\n",
    "        # the H transform should be done after the rotations\n",
    "        qc.h(b[i])\n",
    "    qc.barrier()\n",
    "    return\n",
    "\n",
    "def plot_histogram (counts, title=\"\"):\n",
    "    \"\"\"\n",
    "    Plots the histogram of the counts\n",
    "\n",
    "    Args:\n",
    "\n",
    "        counts (dict):\n",
    "            The dictionary containing the counts of states\n",
    "\n",
    "        titles (str):\n",
    "            A title for the graph.\n",
    "\n",
    "    Returns:\n",
    "        None\n",
    "\n",
    "    \"\"\"\n",
    "    fig, ax = plt.subplots(figsize =(10, 7))\n",
    "    plt.xlabel(\"States\")\n",
    "    plt.ylabel(\"Counts\")\n",
    "    mylist = [key for key, val in counts.items() for _ in range(val)]\n",
    "\n",
    "    unique, inverse = np.unique(mylist, return_inverse=True)\n",
    "    bin_counts = np.bincount(inverse)\n",
    "\n",
    "    plt.bar(unique, bin_counts)\n",
    "\n",
    "    maxFreq = max(counts.values())\n",
    "    plt.ylim(ymax=np.ceil(maxFreq / 10) * 10 if maxFreq % 10 else maxFreq + 10)\n",
    "    # Show plot\n",
    "    plt.title(title)\n",
    "    plt.show()\n",
    "    return"
   ],
   "outputs": [],
   "execution_count": 7
  },
  {
   "cell_type": "markdown",
   "id": "2f211c13-04db-4f78-b700-5bde24875ab8",
   "metadata": {},
   "source": [
    "Step 3. Perform the algorithm"
   ]
  },
  {
   "metadata": {},
   "cell_type": "markdown",
   "source": "Let's try to write Shor's algorithm for factoring the number 6. I'm doing this to try to build a general algorithm for factoring a number",
   "id": "e9da4d3aa520272"
  },
  {
   "metadata": {},
   "cell_type": "markdown",
   "source": "$2^x \\space mod \\space 6$",
   "id": "ec2a023d31142ea4"
  },
  {
   "cell_type": "code",
   "id": "90af8eb2-e56e-46ff-baf2-fed0c08306f9",
   "metadata": {
    "ExecuteTime": {
     "end_time": "2025-02-02T14:18:12.584931Z",
     "start_time": "2025-02-02T14:18:12.580374Z"
    }
   },
   "source": [
    "# Shor’s algorithm to factorize 6 using 2^x mod 6.\n",
    "numberofqubits = 7\n",
    "shots = 1024\n",
    "\n",
    "q = QuantumRegister(numberofqubits , 'q')\n",
    "c = ClassicalRegister(4 , 'c')\n",
    "qc = QuantumCircuit(q, c)\n",
    "\n",
    "# Initialize source and target registers\n",
    "\n",
    "qc.h(0)\n",
    "qc.h(1)\n",
    "qc.h(2)\n",
    "qc.x(6)\n",
    "qc.barrier()\n",
    "\n",
    "# Modular exponentiation 2^x mod 6\n",
    "\n",
    "qc.cx(q[2],q[5])\n",
    "qc.ccx(q[1], q[6], q[4])\n",
    "qc.cx(q[2], q[6])\n",
    "qc.ccx(q[1], q[2], q[4])\n",
    "qc.ccx(q[1], q[4], q[6])\n",
    "\n",
    "qc.barrier()\n",
    "\n",
    "# IQFT. Refer to implementation from earlier examples\n",
    "iqft_cct (qc, q, 3)\n",
    "\n",
    "# Measure\n",
    "qc.measure(q[0], c[0])\n",
    "qc.measure(q[1], c[1])\n",
    "qc.measure(q[2], c[2])\n",
    "\n",
    "# Draw the circuit\n",
    "qc.draw('mpl')"
   ],
   "outputs": [
    {
     "name": "stdout",
     "output_type": "stream",
     "text": [
      "       ┌───┐ ╎                           ╎ ┌───┐                                   »\n",
      "q[0]: ■┤ H ├─╎───────────────────────────╎─┤ H ├───────■───────────────────■───────»\n",
      "       ├───┤ ╎                           ╎ └───┘┌──────┴──────┐┌───┐       │       »\n",
      "q[1]: ■┤ H ├─╎────────■─────────■────■───╎──────┤ U1(-pi/2)   ├┤ H ├───────│───────»\n",
      "       ├───┤ ╎        │         │    │   ╎      └─────────────┘└───┘┌──────┴──────┐»\n",
      "q[2]: ■┤ H ├─╎───■────│────■────■────│───╎──────────────────────────┤ U1(-pi/4)   ├»\n",
      "       └───┘ ╎   │    │    │    │    │   ╎                          └─────────────┘»\n",
      "q[3]: ■──────╎───│────│────│────│────│───╎─────────────────────────────────────────»\n",
      "             ╎   │  ┌─┴─┐  │  ┌─┴─┐  │   ╎                                         »\n",
      "q[4]: ■──────╎───│──┤ X ├──│──┤ X ├──■───╎─────────────────────────────────────────»\n",
      "             ╎ ┌─┴─┐└─┬─┘  │  └───┘  │   ╎                                         »\n",
      "q[5]: ■──────╎─┤ X ├──│────│─────────│───╎─────────────────────────────────────────»\n",
      "       ┌───┐ ╎ └───┘  │  ┌─┴─┐     ┌─┴─┐ ╎                                         »\n",
      "q[6]: ■┤ X ├─╎────────■──┤ X ├─────┤ X ├─╎─────────────────────────────────────────»\n",
      "       └───┘ ╎           └───┘     └───┘ ╎                                         »\n",
      "c: 4/ ■════════════════════════════════════════════════════════════════════════════»\n",
      "                                                                                   »\n",
      "«                            ╎ ┌───┐           \n",
      "«q[0]: ■─────────────────────╎─┤ M ├────────── \n",
      "«                            ╎ └─╥─┘┌───┐      \n",
      "«q[1]: ■───────■─────────────╎───║──┤ M ├───── \n",
      "«       ┌──────┴──────┐┌───┐ ╎   ║  └─╥─┘┌───┐ \n",
      "«q[2]: ■┤ U1(-pi/2)   ├┤ H ├─╎───║────║──┤ M ├ \n",
      "«       └─────────────┘└───┘ ╎   ║    ║  └─╥─┘ \n",
      "«q[3]: ■─────────────────────╎───║────║────║── \n",
      "«                            ╎   ║    ║    ║   \n",
      "«q[4]: ■─────────────────────╎───║────║────║── \n",
      "«                            ╎   ║    ║    ║   \n",
      "«q[5]: ■─────────────────────╎───║────║────║── \n",
      "«                            ╎   ║    ║    ║   \n",
      "«q[6]: ■─────────────────────╎───║────║────║── \n",
      "«                            ╎   ║    ║    ║   \n",
      "«c: 4/ ■═════════════════════════╩════╩════╩══ \n",
      "«                                0    1    2   \n"
     ]
    }
   ],
   "execution_count": 8
  },
  {
   "cell_type": "markdown",
   "id": "72783cb3-a464-4a9c-98ac-9ad533f53222",
   "metadata": {},
   "source": "The circuit to factor 6 shown above."
  },
  {
   "cell_type": "code",
   "id": "1923d677-ed19-4892-a44e-66f05fca3406",
   "metadata": {
    "ExecuteTime": {
     "end_time": "2025-02-02T14:18:16.595591Z",
     "start_time": "2025-02-02T14:18:15.548518Z"
    }
   },
   "source": [
    "# Execute the circuit\n",
    "job = backend.run(qc, shots=shots)\n",
    "job_monitor(job)\n",
    "result = job.result()\n",
    "counts = result.get_counts()\n",
    "\n",
    "# visualize\n",
    "plot_histogram(counts)\n",
    "\n",
    "#clean up\n",
    "del q, c, qc\n",
    "del result\n",
    "del job"
   ],
   "outputs": [
    {
     "name": "stdout",
     "output_type": "stream",
     "text": [
      "Job Running\n",
      "Job Done.\n",
      "Ending Job Monitor\n"
     ]
    },
    {
     "data": {
      "text/plain": [
       "<Figure size 1000x700 with 1 Axes>"
      ],
      "image/png": "[encoded data removed]"
     },
     "metadata": {},
     "output_type": "display_data"
    }
   ],
   "execution_count": 9
  },
  {
   "metadata": {},
   "cell_type": "markdown",
   "source": [
    "How can we see period 2. Since we have two frequently observed states. The other two states that we can see on the histogram are most likely errors caused by noise.\n",
    "\n",
    "Hence the first factor is 3, and the second will be 2.\n",
    "\n",
    "$lcm((p-1), (q-1))=2 \\Rightarrow q=3 \\Rightarrow p=\\frac{6}{3}=2$\n"
   ],
   "id": "493fadee31f5accc"
  },
  {
   "metadata": {},
   "cell_type": "markdown",
   "source": [
    "Now let's try for 10\n",
    "\n",
    "$2^x \\space mod \\space 10$"
   ],
   "id": "cd27278fbd297233"
  },
  {
   "metadata": {
    "ExecuteTime": {
     "end_time": "2025-02-02T14:18:44.133847Z",
     "start_time": "2025-02-02T14:18:44.130205Z"
    }
   },
   "cell_type": "code",
   "source": [
    "# Shor’s algorithm to factorize 15 using 2^x mod 10.\n",
    "numberofqubits = 7\n",
    "shots = 1024\n",
    "\n",
    "q = QuantumRegister(numberofqubits , 'q')\n",
    "c = ClassicalRegister(4 , 'c')\n",
    "qc = QuantumCircuit(q, c)\n",
    "\n",
    "# Initialize source and target registers\n",
    "\n",
    "qc.h(0)\n",
    "qc.h(1)\n",
    "qc.h(2)\n",
    "qc.x(6)\n",
    "qc.barrier()\n",
    "\n",
    "# Modular exponentiation 2^x mod 10\n",
    "\n",
    "qc.cx(q[2],q[5])\n",
    "qc.ccx(q[1], q[6], q[4])\n",
    "qc.cx(q[2], q[6])\n",
    "qc.ccx(q[1], q[2], q[4])\n",
    "qc.ccx(q[1], q[4], q[6])\n",
    "qc.barrier()\n",
    "qc.ccx(q[1], q[2], q[3])\n",
    "qc.ccx(q[2], q[3], q[5])\n",
    "qc.cx(q[6], q[5])\n",
    "qc.cx(q[6], q[4])\n",
    "qc.ccx(q[4], q[5], q[6])\n",
    "\n",
    "qc.barrier()\n",
    "\n",
    "# IQFT. Refer to implementation from earlier examples\n",
    "iqft_cct (qc, q, 3)\n",
    "\n",
    "# Measure\n",
    "qc.measure(q[0], c[0])\n",
    "qc.measure(q[1], c[1])\n",
    "qc.measure(q[2], c[2])\n",
    "\n",
    "# Draw the circuit\n",
    "qc.draw('mpl')"
   ],
   "id": "b852724428ad069e",
   "outputs": [
    {
     "name": "stdout",
     "output_type": "stream",
     "text": [
      "       ┌───┐ ╎                           ╎                           ╎ »\n",
      "q[0]: ■┤ H ├─╎───────────────────────────╎───────────────────────────╎─»\n",
      "       ├───┤ ╎                           ╎                           ╎ »\n",
      "q[1]: ■┤ H ├─╎────────■─────────■────■───╎───■───────────────────────╎─»\n",
      "       ├───┤ ╎        │         │    │   ╎   │                       ╎ »\n",
      "q[2]: ■┤ H ├─╎───■────│────■────■────│───╎───■────■──────────────────╎─»\n",
      "       └───┘ ╎   │    │    │    │    │   ╎ ┌─┴─┐  │                  ╎ »\n",
      "q[3]: ■──────╎───│────│────│────│────│───╎─┤ X ├──■──────────────────╎─»\n",
      "             ╎   │  ┌─┴─┐  │  ┌─┴─┐  │   ╎ └───┘  │       ┌───┐      ╎ »\n",
      "q[4]: ■──────╎───│──┤ X ├──│──┤ X ├──■───╎────────│───────┤ X ├──■───╎─»\n",
      "             ╎ ┌─┴─┐└─┬─┘  │  └───┘  │   ╎      ┌─┴─┐┌───┐└─┬─┘  │   ╎ »\n",
      "q[5]: ■──────╎─┤ X ├──│────│─────────│───╎──────┤ X ├┤ X ├──│────■───╎─»\n",
      "       ┌───┐ ╎ └───┘  │  ┌─┴─┐     ┌─┴─┐ ╎      └───┘└─┬─┘  │  ┌─┴─┐ ╎ »\n",
      "q[6]: ■┤ X ├─╎────────■──┤ X ├─────┤ X ├─╎─────────────■────■──┤ X ├─╎─»\n",
      "       └───┘ ╎           └───┘     └───┘ ╎                     └───┘ ╎ »\n",
      "c: 4/ ■════════════════════════════════════════════════════════════════»\n",
      "                                                                       »\n",
      "«       ┌───┐                                                        ╎ ┌───┐»\n",
      "«q[0]: ■┤ H ├───────■───────────────────■────────────────────────────╎─┤ M ├»\n",
      "«       └───┘┌──────┴──────┐┌───┐       │                            ╎ └─╥─┘»\n",
      "«q[1]: ■─────┤ U1(-pi/2)   ├┤ H ├───────│──────────────■─────────────╎───║──»\n",
      "«            └─────────────┘└───┘┌──────┴──────┐┌──────┴──────┐┌───┐ ╎   ║  »\n",
      "«q[2]: ■─────────────────────────┤ U1(-pi/4)   ├┤ U1(-pi/2)   ├┤ H ├─╎───║──»\n",
      "«                                └─────────────┘└─────────────┘└───┘ ╎   ║  »\n",
      "«q[3]: ■─────────────────────────────────────────────────────────────╎───║──»\n",
      "«                                                                    ╎   ║  »\n",
      "«q[4]: ■─────────────────────────────────────────────────────────────╎───║──»\n",
      "«                                                                    ╎   ║  »\n",
      "«q[5]: ■─────────────────────────────────────────────────────────────╎───║──»\n",
      "«                                                                    ╎   ║  »\n",
      "«q[6]: ■─────────────────────────────────────────────────────────────╎───║──»\n",
      "«                                                                    ╎   ║  »\n",
      "«c: 4/ ■═════════════════════════════════════════════════════════════════╩══»\n",
      "«                                                                        0  »\n",
      "«                  \n",
      "«q[0]: ■────────── \n",
      "«       ┌───┐      \n",
      "«q[1]: ■┤ M ├───── \n",
      "«       └─╥─┘┌───┐ \n",
      "«q[2]: ■──║──┤ M ├ \n",
      "«         ║  └─╥─┘ \n",
      "«q[3]: ■──║────║── \n",
      "«         ║    ║   \n",
      "«q[4]: ■──║────║── \n",
      "«         ║    ║   \n",
      "«q[5]: ■──║────║── \n",
      "«         ║    ║   \n",
      "«q[6]: ■──║────║── \n",
      "«         ║    ║   \n",
      "«c: 4/ ■══╩════╩══ \n",
      "«         1    2   \n"
     ]
    }
   ],
   "execution_count": 10
  },
  {
   "metadata": {
    "ExecuteTime": {
     "end_time": "2025-02-02T14:18:46.662136Z",
     "start_time": "2025-02-02T14:18:45.617588Z"
    }
   },
   "cell_type": "code",
   "source": [
    "# Execute the circuit\n",
    "job = backend.run(qc, shots=shots)\n",
    "job_monitor(job)\n",
    "result = job.result()\n",
    "counts = result.get_counts()\n",
    "\n",
    "# visualize\n",
    "plot_histogram(counts)\n",
    "\n",
    "#clean up\n",
    "del q, c, qc\n",
    "del result\n",
    "del job"
   ],
   "id": "a55fd8e9bbb79ab6",
   "outputs": [
    {
     "name": "stdout",
     "output_type": "stream",
     "text": [
      "Job Queued\n",
      "Job Done.\n",
      "Ending Job Monitor\n"
     ]
    },
    {
     "data": {
      "text/plain": [
       "<Figure size 1000x700 with 1 Axes>"
      ],
      "image/png": "[encoded data removed]"
     },
     "metadata": {},
     "output_type": "display_data"
    }
   ],
   "execution_count": 11
  },
  {
   "metadata": {},
   "cell_type": "markdown",
   "source": "How can we see period 4.",
   "id": "4f6a5760863a50ee"
  },
  {
   "metadata": {},
   "cell_type": "markdown",
   "source": [
    "Then one of the factors of 5\n",
    "\n",
    "$lcm((p-1), (q-1)) = 4 \\Rightarrow q=5 \\Rightarrow p=\\frac{10}{5} = 2$"
   ],
   "id": "9ad8d694d69a7e33"
  },
  {
   "metadata": {},
   "cell_type": "markdown",
   "source": [
    "As we can see, for 10 a pair of quantum gates were added to the existing scheme for 6.\n",
    "Namely these gates\n",
    "\n",
    "```python\n",
    "qc.ccx(q[1], q[2], q[3])\n",
    "qc.ccx(q[2], q[3], q[5])\n",
    "qc.cx(q[6], q[5])\n",
    "qc.cx(q[6], q[4])\n",
    "qc.ccx(q[4], q[5], q[6]\n",
    "```"
   ],
   "id": "6d5629802b982e88"
  },
  {
   "metadata": {},
   "cell_type": "markdown",
   "source": "I started trying to generalize the algorithm for constructing a quantum circuit for the expression $2^x \\space mod \\space b$, but unfortunately, I didn't have enough time to form a generalization of the algorithm for constructing a quantum circuit.",
   "id": "c7ca26b546ea01b6"
  },
  {
   "cell_type": "markdown",
   "id": "f4545dfd-da08-4ac1-87c9-b426a92de748",
   "metadata": {},
   "source": [
    "Footnotes\n",
    "\n",
    "[1] This section is based on [10], [14], and [16].\n",
    "\n",
    "[2] https://research.ibm.com/blog/factor-15-shors-algorithm\n",
    "\n",
    "[3] https://en.wikipedia.org/wiki/Integer_factorization_records#Records_for_efforts_by_quantum_computers"
   ]
  }
 ],
 "metadata": {
  "kernelspec": {
   "display_name": "Python 3 (ipykernel)",
   "language": "python",
   "name": "python3"
  },
  "language_info": {
   "codemirror_mode": {
    "name": "ipython",
    "version": 3
   },
   "file_extension": ".py",
   "mimetype": "text/x-python",
   "name": "python",
   "nbconvert_exporter": "python",
   "pygments_lexer": "ipython3",
   "version": "3.11.11"
  }
 },
 "nbformat": 4,
 "nbformat_minor": 5
}
